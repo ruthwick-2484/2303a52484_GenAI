{
  "nbformat": 4,
  "nbformat_minor": 0,
  "metadata": {
    "colab": {
      "provenance": [],
      "include_colab_link": true
    },
    "kernelspec": {
      "name": "python3",
      "display_name": "Python 3"
    },
    "language_info": {
      "name": "python"
    }
  },
  "cells": [
    {
      "cell_type": "markdown",
      "metadata": {
        "id": "view-in-github",
        "colab_type": "text"
      },
      "source": [
        "<a href=\"https://colab.research.google.com/github/ruthwick-2484/2303a52484_GenAI/blob/main/GenAI_Assignment_3_2484.ipynb\" target=\"_parent\"><img src=\"https://colab.research.google.com/assets/colab-badge.svg\" alt=\"Open In Colab\"/></a>"
      ]
    },
    {
      "cell_type": "markdown",
      "source": [
        "**ASSIGNMENT-3**"
      ],
      "metadata": {
        "id": "ss3SjcxAfy2R"
      }
    },
    {
      "cell_type": "markdown",
      "source": [
        "**1.** Write Python code without using any libraries to find the value of x at which the\n",
        " function f(x) shown in equation (1) has minimum value. Consider Gradient Descent Algorithm.\n",
        "\n",
        " **f(x) = 5x4 +3x2 +10**\n"
      ],
      "metadata": {
        "id": "NLQSASUtXn9M"
      }
    },
    {
      "cell_type": "code",
      "source": [
        "def f(x):\n",
        "    return 5 * x**4 + 3 * x**2 + 10\n",
        "\n",
        "def f_prime(x):\n",
        "    return 20 * x**3 + 6 * x\n",
        "\n",
        "def gradient_descent(start, learning_rate, tolerance, max_iterations):\n",
        "    x = start\n",
        "    for _ in range(max_iterations):\n",
        "        grad = f_prime(x)\n",
        "        next_x = x - learning_rate * grad\n",
        "        if abs(next_x - x) < tolerance:\n",
        "            break\n",
        "        x = next_x\n",
        "    return x\n",
        "\n",
        "start = 2.0\n",
        "learning_rate = 0.01\n",
        "tolerance = 1e-6\n",
        "max_iterations = 10000\n",
        "\n",
        "min_x = gradient_descent(start, learning_rate, tolerance, max_iterations)\n",
        "print(\"Value of x at which f(x) has a minimum:\", min_x)\n",
        "print(\"Minimum value of f(x):\", f(min_x))"
      ],
      "metadata": {
        "colab": {
          "base_uri": "https://localhost:8080/"
        },
        "id": "54DK6ER2fMj5",
        "outputId": "1870416f-6b3e-4302-c3fd-8ba07d913b57"
      },
      "execution_count": null,
      "outputs": [
        {
          "output_type": "stream",
          "name": "stdout",
          "text": [
            "Value of x at which f(x) has a minimum: 1.5840776554323562e-05\n",
            "Minimum value of f(x): 10.00000000075279\n"
          ]
        }
      ]
    },
    {
      "cell_type": "markdown",
      "source": [
        "**2.** Write Python code without using any libraries to find the value of x and y at which the\n",
        " function g(x,y) shown in equation (2) has minimum value. Consider Gradient Descent Algorithm.\n",
        "\n",
        " **f(x) = 3x2 +5e−y +10**"
      ],
      "metadata": {
        "id": "i_1SC0-mV9Mr"
      }
    },
    {
      "cell_type": "code",
      "source": [
        "def gradient_descent(alpha, iterations):\n",
        "    x, y = 0.0, 0.0\n",
        "\n",
        "    for _ in range(iterations):\n",
        "        dg_dx = 6 * x\n",
        "        dg_dy = -5 * (2.71828 ** -y)\n",
        "\n",
        "        x = x - alpha * dg_dx\n",
        "        y = y - alpha * dg_dy\n",
        "\n",
        "    return x, y, 3 * x ** 2 + 5 * (2.71828 ** -y) + 10\n",
        "\n",
        "learning_rate = 0.01\n",
        "num_iterations = 1000\n",
        "\n",
        "x_min, y_min, g_min = gradient_descent(learning_rate, num_iterations)\n",
        "\n",
        "print(f\"Minimum value of g(x, y): {g_min}\")\n",
        "print(f\"Value of x at minimum: {x_min}\")\n",
        "print(f\"Value of y at minimum: {y_min}\")"
      ],
      "metadata": {
        "colab": {
          "base_uri": "https://localhost:8080/"
        },
        "id": "5vkI70a4facQ",
        "outputId": "ca3f6ea5-8bff-4b10-e3b9-db14a96eb78e"
      },
      "execution_count": null,
      "outputs": [
        {
          "output_type": "stream",
          "name": "stdout",
          "text": [
            "Minimum value of g(x, y): 10.097849796058027\n",
            "Value of x at minimum: 0.0\n",
            "Value of y at minimum: 3.933762227862872\n"
          ]
        }
      ]
    },
    {
      "cell_type": "markdown",
      "source": [
        " **3.**Write Python code without using any libraries to find the value of x at which the\n",
        " sigmoid function z(x) shown in equation (3) has minimum value. Consider Gradient Descent\n",
        " Algorithm.\n",
        "\n",
        " **z(x) = 1/\n",
        " 1 +e−x**"
      ],
      "metadata": {
        "id": "ZvChWhALYlJr"
      }
    },
    {
      "cell_type": "code",
      "source": [
        "def gradient_descent_sigmoid(alpha, iterations):\n",
        "    x = 0.0\n",
        "\n",
        "    for _ in range(iterations):\n",
        "        z_x = 1 / (1 + (2.71828 ** -x))\n",
        "        dz_dx = z_x * (1 - z_x)\n",
        "\n",
        "        x = x - alpha * dz_dx\n",
        "\n",
        "    return x, 1 / (1 + (2.71828 ** -x))\n",
        "\n",
        "learning_rate = 0.01\n",
        "num_iterations = 1000\n",
        "\n",
        "x_min, z_min = gradient_descent_sigmoid(learning_rate, num_iterations)\n",
        "print(f\"Value of x at convergence: {x_min}\")\n",
        "print(f\"Sigmoid value at convergence: {z_min}\")"
      ],
      "metadata": {
        "colab": {
          "base_uri": "https://localhost:8080/"
        },
        "id": "GXIhmSE1fdfp",
        "outputId": "6da693f4-36f8-426d-8bd1-ad3ecdfd94f6"
      },
      "execution_count": null,
      "outputs": [
        {
          "output_type": "stream",
          "name": "stdout",
          "text": [
            "Value of x at convergence: -1.8618359316575634\n",
            "Sigmoid value at convergence: 0.13448934843175162\n"
          ]
        }
      ]
    },
    {
      "cell_type": "markdown",
      "source": [
        "**4**.Write Python code without using any libraries to find the value of optimal values of\n",
        " model parameters M and C such that the model’s Square Error Value shown in equation 4 will\n",
        " be minimum. It means model gives output close to expected output as shown in Figure"
      ],
      "metadata": {
        "id": "govc9yKQZkuj"
      }
    },
    {
      "cell_type": "code",
      "source": [
        "input_value = 2\n",
        "expected_output = 0.5\n",
        "M = 0.0\n",
        "C = 0.0\n",
        "learning_rate = 0.01\n",
        "\n",
        "def predict(input_value, M, C):\n",
        "    return (M * input_value) + C\n",
        "\n",
        "def square_error(expected, predicted):\n",
        "    return (expected - predicted) ** 2\n",
        "\n",
        "for epoch in range(10000):\n",
        "    predicted_output = predict(input_value, M, C)\n",
        "    error = square_error(expected_output, predicted_output)\n",
        "    dM = -2 * input_value * (expected_output - predicted_output)\n",
        "    dC = -2 * (expected_output - predicted_output)\n",
        "    M -= learning_rate * dM\n",
        "    C -= learning_rate * dC\n",
        "    if error < 1e-6:\n",
        "        break\n",
        "\n",
        "print(\"Optimal M:\", M)\n",
        "print(\"Optimal C:\", C)\n",
        "print(\"Final Square Error:\", error)"
      ],
      "metadata": {
        "colab": {
          "base_uri": "https://localhost:8080/"
        },
        "id": "_m1Ri6VpffYA",
        "outputId": "123e48ee-fd7b-4cae-b25b-69666851b9d8"
      },
      "execution_count": null,
      "outputs": [
        {
          "output_type": "stream",
          "name": "stdout",
          "text": [
            "Optimal M: 0.19964059794001712\n",
            "Optimal C: 0.09982029897000856\n",
            "Final Square Error: 9.966808697526092e-07\n"
          ]
        }
      ]
    }
  ]
}